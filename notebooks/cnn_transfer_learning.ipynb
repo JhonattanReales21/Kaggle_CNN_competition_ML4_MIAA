{
 "cells": [
  {
   "cell_type": "markdown",
   "id": "8b2b9c75",
   "metadata": {},
   "source": [
    "# Configuration"
   ]
  },
  {
   "cell_type": "code",
   "execution_count": null,
   "id": "9f206ba5",
   "metadata": {},
   "outputs": [],
   "source": [
    "%load_ext autoreload\n",
    "%autoreload 2"
   ]
  },
  {
   "cell_type": "markdown",
   "id": "76058f03",
   "metadata": {},
   "source": [
    "## Read packages"
   ]
  },
  {
   "cell_type": "code",
   "execution_count": null,
   "id": "264ad2f1",
   "metadata": {},
   "outputs": [
    {
     "name": "stdout",
     "output_type": "stream",
     "text": [
      "Device: cpu\n"
     ]
    }
   ],
   "source": [
    "import json, math, random, time, zipfile, io\n",
    "from pathlib import Path\n",
    "from dataclasses import dataclass\n",
    "from typing import Dict, Tuple, List, Optional\n",
    "import copy\n",
    "\n",
    "import numpy as np\n",
    "import pandas as pd\n",
    "from PIL import Image, ImageDraw\n",
    "\n",
    "import torch, torch.nn as nn\n",
    "import torch.nn.functional as F\n",
    "from torch.utils.data import Dataset, DataLoader\n",
    "from torch.amp import autocast, GradScaler\n",
    "from torchvision import transforms, models\n",
    "\n",
    "from torchmetrics.classification import BinaryAccuracy, BinaryAUROC\n",
    "\n",
    "import albumentations as A\n",
    "from albumentations.pytorch import ToTensorV2\n",
    "\n",
    "\n",
    "DEVICE = \"cuda\" if torch.cuda.is_available() else \"cpu\"\n",
    "print(\"Device:\", DEVICE)\n",
    "\n",
    "import os\n",
    "import sys\n",
    "\n",
    "sys.path.append(\"..\")"
   ]
  },
  {
   "cell_type": "markdown",
   "id": "c1e30506",
   "metadata": {},
   "source": [
    "## Read data-images"
   ]
  },
  {
   "cell_type": "code",
   "execution_count": null,
   "id": "18e7a1c1",
   "metadata": {},
   "outputs": [
    {
     "name": "stdout",
     "output_type": "stream",
     "text": [
      "Current absolute path: /Users/jhonattan.reales/Library/Mobile Documents/com~apple~CloudDocs/MAESTRIA MIAA 2025-2026/Cursos semestres/SEMESTRE 2/Aprendizaje automatico IV/Competencia-CNN/Kaggle_CNN_competition_ML4_MIAA/notebooks\n",
      "\n",
      "BASE_DIR: /Users/jhonattan.reales/Library/Mobile Documents/com~apple~CloudDocs/MAESTRIA MIAA 2025-2026/Cursos semestres/SEMESTRE 2/Aprendizaje automatico IV/Competencia-CNN/Kaggle_CNN_competition_ML4_MIAA\n",
      "DATA_DIR: /Users/jhonattan.reales/Library/Mobile Documents/com~apple~CloudDocs/MAESTRIA MIAA 2025-2026/Cursos semestres/SEMESTRE 2/Aprendizaje automatico IV/Competencia-CNN/Kaggle_CNN_competition_ML4_MIAA/data\n",
      "IMG_DIR: /Users/jhonattan.reales/Library/Mobile Documents/com~apple~CloudDocs/MAESTRIA MIAA 2025-2026/Cursos semestres/SEMESTRE 2/Aprendizaje automatico IV/Competencia-CNN/Kaggle_CNN_competition_ML4_MIAA/data/images\n",
      "OUTPUT_DIR: /Users/jhonattan.reales/Library/Mobile Documents/com~apple~CloudDocs/MAESTRIA MIAA 2025-2026/Cursos semestres/SEMESTRE 2/Aprendizaje automatico IV/Competencia-CNN/Kaggle_CNN_competition_ML4_MIAA/data/output\n"
     ]
    }
   ],
   "source": [
    "filename = \"cnn_personalized.ipynb\"  # Name of current file\n",
    "print(f\"Current absolute path: {os.getcwd()}\\n\")\n",
    "\n",
    "# We specify the path of the current directory and the data and output directories.\n",
    "ACTUAL_DIR = os.path.dirname(os.path.abspath(filename))\n",
    "BASE_DIR = os.path.dirname(ACTUAL_DIR)\n",
    "DATA_DIR = os.path.join(BASE_DIR, \"data\")\n",
    "IMG_DIR = os.path.join(DATA_DIR, \"images\")\n",
    "OUTPUT_DIR = os.path.join(DATA_DIR, \"output\")\n",
    "\n",
    "print(f\"BASE_DIR: {BASE_DIR}\")\n",
    "print(f\"DATA_DIR: {DATA_DIR}\")\n",
    "print(f\"IMG_DIR: {IMG_DIR}\")\n",
    "print(f\"OUTPUT_DIR: {OUTPUT_DIR}\")"
   ]
  },
  {
   "cell_type": "code",
   "execution_count": null,
   "id": "afb24266",
   "metadata": {},
   "outputs": [],
   "source": [
    "# Read the CSV file\n",
    "csv_file = os.path.join(DATA_DIR, \"train.csv\")\n",
    "df_train = pd.read_csv(csv_file)"
   ]
  },
  {
   "cell_type": "markdown",
   "id": "5364cb73",
   "metadata": {},
   "source": [
    "# Prepare data\n",
    "Divide train and valid data.  \n",
    "Build the dataloaders."
   ]
  },
  {
   "cell_type": "code",
   "execution_count": null,
   "id": "447c700f",
   "metadata": {},
   "outputs": [],
   "source": []
  },
  {
   "cell_type": "markdown",
   "id": "bbf6363a",
   "metadata": {},
   "source": [
    "# TL with model 1"
   ]
  },
  {
   "cell_type": "code",
   "execution_count": null,
   "id": "5c73fb35",
   "metadata": {},
   "outputs": [],
   "source": []
  },
  {
   "cell_type": "code",
   "execution_count": null,
   "id": "ad8861dd",
   "metadata": {},
   "outputs": [],
   "source": []
  },
  {
   "cell_type": "code",
   "execution_count": null,
   "id": "af728910",
   "metadata": {},
   "outputs": [],
   "source": []
  },
  {
   "cell_type": "markdown",
   "id": "5a9463f9",
   "metadata": {},
   "source": [
    "# TL with model 2"
   ]
  },
  {
   "cell_type": "code",
   "execution_count": null,
   "id": "e721a582",
   "metadata": {},
   "outputs": [],
   "source": []
  },
  {
   "cell_type": "code",
   "execution_count": null,
   "id": "99c6387a",
   "metadata": {},
   "outputs": [],
   "source": []
  },
  {
   "cell_type": "code",
   "execution_count": null,
   "id": "7d7cdc2c",
   "metadata": {},
   "outputs": [],
   "source": []
  },
  {
   "cell_type": "markdown",
   "id": "f6431ae3",
   "metadata": {},
   "source": [
    "# TL with model 3"
   ]
  },
  {
   "cell_type": "code",
   "execution_count": null,
   "id": "1ed40bd7",
   "metadata": {},
   "outputs": [],
   "source": []
  },
  {
   "cell_type": "code",
   "execution_count": null,
   "id": "d1280213",
   "metadata": {},
   "outputs": [],
   "source": []
  },
  {
   "cell_type": "markdown",
   "id": "9685b2b2",
   "metadata": {},
   "source": [
    "# Compare the results\n",
    "Show the metrics of the different models and compare the predictions on the images (validation data)"
   ]
  },
  {
   "cell_type": "code",
   "execution_count": null,
   "id": "0cc5f571",
   "metadata": {},
   "outputs": [],
   "source": []
  },
  {
   "cell_type": "markdown",
   "id": "006b5038",
   "metadata": {},
   "source": [
    "# Conclusions"
   ]
  },
  {
   "cell_type": "markdown",
   "id": "dcc5ffa7",
   "metadata": {},
   "source": [
    "----"
   ]
  }
 ],
 "metadata": {
  "language_info": {
   "name": "python"
  }
 },
 "nbformat": 4,
 "nbformat_minor": 5
}
