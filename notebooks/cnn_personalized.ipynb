{
 "cells": [
  {
   "cell_type": "code",
   "execution_count": null,
   "id": "aac1f192",
   "metadata": {},
   "outputs": [],
   "source": [
    "import os, json, math, random, time, zipfile, io\n",
    "from pathlib import Path\n",
    "from dataclasses import dataclass\n",
    "from typing import Dict, Tuple, List, Optional\n",
    "import copy\n",
    "\n",
    "import numpy as np\n",
    "import pandas as pd\n",
    "from PIL import Image, ImageDraw\n",
    "\n",
    "import torch, torch.nn as nn\n",
    "import torch.nn.functional as F\n",
    "from torch.utils.data import Dataset, DataLoader\n",
    "from torch.amp import autocast, GradScaler\n",
    "from torchvision import transforms, models\n",
    "\n",
    "from torchmetrics.classification import BinaryAccuracy, BinaryAUROC\n",
    "\n",
    "import albumentations as A\n",
    "from albumentations.pytorch import ToTensorV2"
   ]
  },
  {
   "cell_type": "code",
   "execution_count": null,
   "id": "30b78325",
   "metadata": {},
   "outputs": [],
   "source": []
  },
  {
   "cell_type": "code",
   "execution_count": null,
   "id": "49c83bff",
   "metadata": {},
   "outputs": [],
   "source": [
    "# # Ejemplo\n",
    "\n",
    "# backbone = BaseBackbone()\n",
    "\n",
    "# # Add an extra conv layer at the end of self.body\n",
    "# extra_layer = nn.Sequential(\n",
    "#     nn.Conv2d(4*32, 8*32, 3, 1, 1),\n",
    "#     nn.BatchNorm2d(8*32),\n",
    "#     nn.ReLU(inplace=True),\n",
    "# )\n",
    "\n",
    "# # Concatenate to the existing body\n",
    "# backbone.body = nn.Sequential(\n",
    "#     *(list(backbone.body.children()) + list(extra_layer.children()))\n",
    "# )"
   ]
  },
  {
   "cell_type": "code",
   "execution_count": null,
   "id": "d721dc15",
   "metadata": {},
   "outputs": [],
   "source": [
    "# # ejemplo\n",
    "\n",
    "# backbone = BaseBackbone()\n",
    "\n",
    "# # Replace projection with a deeper MLP\n",
    "# backbone.proj = nn.Sequential(\n",
    "#     backbone.proj,                      # original linear layer\n",
    "#     nn.ReLU(inplace=True),\n",
    "#     nn.Linear(backbone.proj.out_features, 256),  # new layer\n",
    "# )"
   ]
  },
  {
   "cell_type": "code",
   "execution_count": null,
   "id": "d42945f3",
   "metadata": {},
   "outputs": [],
   "source": []
  }
 ],
 "metadata": {
  "language_info": {
   "name": "python"
  }
 },
 "nbformat": 4,
 "nbformat_minor": 5
}
