{
 "cells": [
  {
   "cell_type": "markdown",
   "id": "9d5e4dc8",
   "metadata": {},
   "source": [
    "# Configuration"
   ]
  },
  {
   "cell_type": "code",
   "execution_count": 1,
   "id": "378c3ec3",
   "metadata": {},
   "outputs": [],
   "source": [
    "%load_ext autoreload\n",
    "%autoreload 2"
   ]
  },
  {
   "cell_type": "markdown",
   "id": "f7917728",
   "metadata": {},
   "source": [
    "## Read packages"
   ]
  },
  {
   "cell_type": "code",
   "execution_count": 2,
   "id": "aac1f192",
   "metadata": {},
   "outputs": [
    {
     "name": "stdout",
     "output_type": "stream",
     "text": [
      "Device: cpu\n"
     ]
    }
   ],
   "source": [
    "import json, math, random, time, zipfile, io\n",
    "from pathlib import Path\n",
    "from dataclasses import dataclass\n",
    "from typing import Dict, Tuple, List, Optional\n",
    "import copy\n",
    "\n",
    "import numpy as np\n",
    "import pandas as pd\n",
    "from PIL import Image, ImageDraw\n",
    "\n",
    "import torch, torch.nn as nn\n",
    "import torch.nn.functional as F\n",
    "from torch.utils.data import Dataset, DataLoader\n",
    "from torch.amp import autocast, GradScaler\n",
    "from torchvision import transforms, models\n",
    "\n",
    "from torchmetrics.classification import BinaryAccuracy, BinaryAUROC\n",
    "\n",
    "import albumentations as A\n",
    "from albumentations.pytorch import ToTensorV2\n",
    "\n",
    "\n",
    "DEVICE = \"cuda\" if torch.cuda.is_available() else \"cpu\"\n",
    "print(\"Device:\", DEVICE)\n",
    "\n",
    "import os\n",
    "import sys\n",
    "\n",
    "sys.path.append(\"..\")"
   ]
  },
  {
   "cell_type": "markdown",
   "id": "6116efca",
   "metadata": {},
   "source": [
    "## Read data-images"
   ]
  },
  {
   "cell_type": "code",
   "execution_count": 3,
   "id": "5ffe49d2",
   "metadata": {},
   "outputs": [
    {
     "name": "stdout",
     "output_type": "stream",
     "text": [
      "Current absolute path: /Users/jhonattan.reales/Library/Mobile Documents/com~apple~CloudDocs/MAESTRIA MIAA 2025-2026/Cursos semestres/SEMESTRE 2/Aprendizaje automatico IV/Competencia-CNN/Kaggle_CNN_competition_ML4_MIAA/notebooks\n",
      "\n",
      "BASE_DIR: /Users/jhonattan.reales/Library/Mobile Documents/com~apple~CloudDocs/MAESTRIA MIAA 2025-2026/Cursos semestres/SEMESTRE 2/Aprendizaje automatico IV/Competencia-CNN/Kaggle_CNN_competition_ML4_MIAA\n",
      "DATA_DIR: /Users/jhonattan.reales/Library/Mobile Documents/com~apple~CloudDocs/MAESTRIA MIAA 2025-2026/Cursos semestres/SEMESTRE 2/Aprendizaje automatico IV/Competencia-CNN/Kaggle_CNN_competition_ML4_MIAA/data\n",
      "IMG_DIR: /Users/jhonattan.reales/Library/Mobile Documents/com~apple~CloudDocs/MAESTRIA MIAA 2025-2026/Cursos semestres/SEMESTRE 2/Aprendizaje automatico IV/Competencia-CNN/Kaggle_CNN_competition_ML4_MIAA/data/images\n",
      "OUTPUT_DIR: /Users/jhonattan.reales/Library/Mobile Documents/com~apple~CloudDocs/MAESTRIA MIAA 2025-2026/Cursos semestres/SEMESTRE 2/Aprendizaje automatico IV/Competencia-CNN/Kaggle_CNN_competition_ML4_MIAA/data/output\n"
     ]
    }
   ],
   "source": [
    "filename = \"cnn_personalized.ipynb\"  # Name of current file\n",
    "print(f\"Current absolute path: {os.getcwd()}\\n\")\n",
    "\n",
    "# We specify the path of the current directory and the data and output directories.\n",
    "ACTUAL_DIR = os.path.dirname(os.path.abspath(filename))\n",
    "BASE_DIR = os.path.dirname(ACTUAL_DIR)\n",
    "DATA_DIR = os.path.join(BASE_DIR, \"data\")\n",
    "IMG_DIR = os.path.join(DATA_DIR, \"images\")\n",
    "OUTPUT_DIR = os.path.join(DATA_DIR, \"output\")\n",
    "\n",
    "print(f\"BASE_DIR: {BASE_DIR}\")\n",
    "print(f\"DATA_DIR: {DATA_DIR}\")\n",
    "print(f\"IMG_DIR: {IMG_DIR}\")\n",
    "print(f\"OUTPUT_DIR: {OUTPUT_DIR}\")"
   ]
  },
  {
   "cell_type": "code",
   "execution_count": 4,
   "id": "4e59f9de",
   "metadata": {},
   "outputs": [],
   "source": [
    "# Read the CSV file\n",
    "csv_file = os.path.join(DATA_DIR, \"train.csv\")\n",
    "df_train = pd.read_csv(csv_file)"
   ]
  },
  {
   "cell_type": "markdown",
   "id": "78c9621f",
   "metadata": {},
   "source": [
    "# Base CNN \n",
    "basic backbone + basic decision head"
   ]
  },
  {
   "cell_type": "code",
   "execution_count": null,
   "id": "30b78325",
   "metadata": {},
   "outputs": [],
   "source": []
  },
  {
   "cell_type": "markdown",
   "id": "bad34ef8",
   "metadata": {},
   "source": [
    "# Tunning the base model"
   ]
  },
  {
   "cell_type": "markdown",
   "id": "30c07e86",
   "metadata": {},
   "source": [
    "## Improve the backbone architecture\n",
    "Add more hidden layers and useful modules"
   ]
  },
  {
   "cell_type": "code",
   "execution_count": null,
   "id": "efd469bf",
   "metadata": {},
   "outputs": [],
   "source": []
  },
  {
   "cell_type": "markdown",
   "id": "c96bde92",
   "metadata": {},
   "source": [
    "## Improve the desicion head architecture\n",
    "Add more layers or useful modules"
   ]
  },
  {
   "cell_type": "code",
   "execution_count": null,
   "id": "c82fb55b",
   "metadata": {},
   "outputs": [],
   "source": []
  },
  {
   "cell_type": "markdown",
   "id": "e615dabb",
   "metadata": {},
   "source": [
    "## Hiperparameter tunning\n",
    "Test the results by tunning different values of hiperparameters:\n",
    "- d\n",
    "- d"
   ]
  },
  {
   "cell_type": "code",
   "execution_count": null,
   "id": "3a1b96cc",
   "metadata": {},
   "outputs": [],
   "source": []
  },
  {
   "cell_type": "markdown",
   "id": "170289fc",
   "metadata": {},
   "source": [
    "## Test Data augmentations\n",
    "Use different data augmentation techniques and identify those who are better to improve the performance."
   ]
  },
  {
   "cell_type": "code",
   "execution_count": null,
   "id": "0164aff8",
   "metadata": {},
   "outputs": [],
   "source": []
  },
  {
   "cell_type": "markdown",
   "id": "510655a8",
   "metadata": {},
   "source": [
    "# Conclusions"
   ]
  },
  {
   "cell_type": "markdown",
   "id": "0c3114af",
   "metadata": {},
   "source": [
    "----"
   ]
  },
  {
   "cell_type": "code",
   "execution_count": null,
   "id": "49c83bff",
   "metadata": {},
   "outputs": [],
   "source": [
    "# # Ejemplo\n",
    "\n",
    "# backbone = BaseBackbone()\n",
    "\n",
    "# # Add an extra conv layer at the end of self.body\n",
    "# extra_layer = nn.Sequential(\n",
    "#     nn.Conv2d(4*32, 8*32, 3, 1, 1),\n",
    "#     nn.BatchNorm2d(8*32),\n",
    "#     nn.ReLU(inplace=True),\n",
    "# )\n",
    "\n",
    "# # Concatenate to the existing body\n",
    "# backbone.body = nn.Sequential(\n",
    "#     *(list(backbone.body.children()) + list(extra_layer.children()))\n",
    "# )"
   ]
  },
  {
   "cell_type": "code",
   "execution_count": null,
   "id": "d721dc15",
   "metadata": {},
   "outputs": [],
   "source": [
    "# # ejemplo\n",
    "\n",
    "# backbone = BaseBackbone()\n",
    "\n",
    "# # Replace projection with a deeper MLP\n",
    "# backbone.proj = nn.Sequential(\n",
    "#     backbone.proj,                      # original linear layer\n",
    "#     nn.ReLU(inplace=True),\n",
    "#     nn.Linear(backbone.proj.out_features, 256),  # new layer\n",
    "# )"
   ]
  },
  {
   "cell_type": "code",
   "execution_count": null,
   "id": "d42945f3",
   "metadata": {},
   "outputs": [],
   "source": []
  }
 ],
 "metadata": {
  "kernelspec": {
   "display_name": "cnn_project",
   "language": "python",
   "name": "python3"
  },
  "language_info": {
   "codemirror_mode": {
    "name": "ipython",
    "version": 3
   },
   "file_extension": ".py",
   "mimetype": "text/x-python",
   "name": "python",
   "nbconvert_exporter": "python",
   "pygments_lexer": "ipython3",
   "version": "3.10.18"
  }
 },
 "nbformat": 4,
 "nbformat_minor": 5
}
